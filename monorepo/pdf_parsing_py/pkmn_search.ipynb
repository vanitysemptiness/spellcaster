{
 "cells": [
  {
   "cell_type": "code",
   "execution_count": 12,
   "metadata": {},
   "outputs": [],
   "source": [
    "import csv\n",
    "from elasticsearch import Elasticsearch\n",
    "from PyPDF2 import PdfReader\n"
   ]
  },
  {
   "cell_type": "code",
   "execution_count": 13,
   "metadata": {},
   "outputs": [
    {
     "name": "stderr",
     "output_type": "stream",
     "text": [
      "/var/folders/pq/69lxbqs9033c8np0gk9dbb_40000gn/T/ipykernel_72203/2617568525.py:6: ElasticsearchWarning: Elasticsearch built-in security features are not enabled. Without authentication, your cluster could be accessible to anyone. See https://www.elastic.co/guide/en/elasticsearch/reference/7.17/security-minimal-setup.html to enable security.\n",
      "  es.index(index='pokemon_stats', body=row)\n"
     ]
    }
   ],
   "source": [
    "es = Elasticsearch(hosts=['http://localhost:9200'])\n",
    "\n",
    "with open('pokemon.csv', 'r') as file:\n",
    "    reader = csv.DictReader(file)\n",
    "    for row in reader:\n",
    "        es.index(index='pokemon_stats', body=row)"
   ]
  },
  {
   "cell_type": "code",
   "execution_count": 15,
   "metadata": {},
   "outputs": [
    {
     "name": "stderr",
     "output_type": "stream",
     "text": [
      "/var/folders/pq/69lxbqs9033c8np0gk9dbb_40000gn/T/ipykernel_72203/2112937442.py:10: ElasticsearchWarning: Elasticsearch built-in security features are not enabled. Without authentication, your cluster could be accessible to anyone. See https://www.elastic.co/guide/en/elasticsearch/reference/7.17/security-minimal-setup.html to enable security.\n",
      "  es.index(index='pokemon_text', body={'text': text})\n"
     ]
    }
   ],
   "source": [
    "# Read and index PDF text\n",
    "with open('pokemon_cards.pdf', 'rb') as file:\n",
    "    reader = PdfReader(file)\n",
    "    text = ''\n",
    "    for page in reader.pages:\n",
    "        text += page.extract_text()\n",
    "\n",
    "    # Index the extracted text\n",
    "    try:\n",
    "        es.index(index='pokemon_text', body={'text': text})\n",
    "    except Exception as e:\n",
    "        print(f\"Error indexing PDF text: {e}\")"
   ]
  },
  {
   "cell_type": "code",
   "execution_count": 16,
   "metadata": {},
   "outputs": [],
   "source": [
    "# Search for \"charmander\"\n",
    "query = {\n",
    "    'query': {\n",
    "        'multi_match': {\n",
    "            'query': 'charmander',\n",
    "            'fields': ['name', 'type', 'description', 'text']\n",
    "        }\n",
    "    }\n",
    "}"
   ]
  },
  {
   "cell_type": "code",
   "execution_count": 17,
   "metadata": {},
   "outputs": [
    {
     "name": "stderr",
     "output_type": "stream",
     "text": [
      "/var/folders/pq/69lxbqs9033c8np0gk9dbb_40000gn/T/ipykernel_72203/3400873825.py:2: ElasticsearchWarning: Elasticsearch built-in security features are not enabled. Without authentication, your cluster could be accessible to anyone. See https://www.elastic.co/guide/en/elasticsearch/reference/7.17/security-minimal-setup.html to enable security.\n",
      "  results_stats = es.search(index='pokemon_stats', body=query)\n",
      "/var/folders/pq/69lxbqs9033c8np0gk9dbb_40000gn/T/ipykernel_72203/3400873825.py:3: ElasticsearchWarning: Elasticsearch built-in security features are not enabled. Without authentication, your cluster could be accessible to anyone. See https://www.elastic.co/guide/en/elasticsearch/reference/7.17/security-minimal-setup.html to enable security.\n",
      "  results_text = es.search(index='pokemon_text', body=query)\n"
     ]
    }
   ],
   "source": [
    "# Search in both indexes\n",
    "results_stats = es.search(index='pokemon_stats', body=query)\n",
    "results_text = es.search(index='pokemon_text', body=query)"
   ]
  },
  {
   "cell_type": "code",
   "execution_count": 18,
   "metadata": {},
   "outputs": [
    {
     "name": "stdout",
     "output_type": "stream",
     "text": [
      "Found 2 results in 'pokemon_stats' index:\n",
      "- Charmander\n",
      "- Charmander\n"
     ]
    }
   ],
   "source": [
    "# Print search results\n",
    "print(f\"Found {len(results_stats['hits']['hits'])} results in 'pokemon_stats' index:\")\n",
    "for hit in results_stats['hits']['hits']:\n",
    "    print(f\"- {hit['_source']['name']}\")"
   ]
  },
  {
   "cell_type": "code",
   "execution_count": 19,
   "metadata": {},
   "outputs": [
    {
     "name": "stdout",
     "output_type": "stream",
     "text": [
      "Found 1 results in 'pokemon_text' index:\n",
      "- From Base to TempestPokémon and its trademarks are ©1995-2022 Nintendo, Creatures, and GAMEFREAK.\n",
      "Th...\n"
     ]
    }
   ],
   "source": [
    "print(f\"Found {len(results_text['hits']['hits'])} results in 'pokemon_text' index:\")\n",
    "for hit in results_text['hits']['hits']:\n",
    "    print(f\"- {hit['_source']['text'][:100]}...\")  # Print the first 100 characters of the text"
   ]
  },
  {
   "cell_type": "code",
   "execution_count": null,
   "metadata": {},
   "outputs": [],
   "source": []
  }
 ],
 "metadata": {
  "kernelspec": {
   "display_name": ".venv",
   "language": "python",
   "name": "python3"
  },
  "language_info": {
   "codemirror_mode": {
    "name": "ipython",
    "version": 3
   },
   "file_extension": ".py",
   "mimetype": "text/x-python",
   "name": "python",
   "nbconvert_exporter": "python",
   "pygments_lexer": "ipython3",
   "version": "3.12.1"
  }
 },
 "nbformat": 4,
 "nbformat_minor": 2
}
